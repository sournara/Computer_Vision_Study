{
  "nbformat": 4,
  "nbformat_minor": 0,
  "metadata": {
    "colab": {
      "provenance": [],
      "authorship_tag": "ABX9TyPNIeOxT6cx9tE9iVStMVtV",
      "include_colab_link": true
    },
    "kernelspec": {
      "name": "python3",
      "display_name": "Python 3"
    },
    "language_info": {
      "name": "python"
    }
  },
  "cells": [
    {
      "cell_type": "markdown",
      "metadata": {
        "id": "view-in-github",
        "colab_type": "text"
      },
      "source": [
        "<a href=\"https://colab.research.google.com/github/sournara/Computer_Vision_Study/blob/main/PyTorch/PyTorch_02.ipynb\" target=\"_parent\"><img src=\"https://colab.research.google.com/assets/colab-badge.svg\" alt=\"Open In Colab\"/></a>"
      ]
    },
    {
      "cell_type": "markdown",
      "source": [
        "# **1. 텐서 소개 및 생성 방법**\n",
        "- PyTorch에서의 텐서는 기능적으로 넘파이와 매우 유사하다.\n",
        "- 기본적으로 **다차원 배열**을 처리하기에 적합한 자료구조로 이해할 수 있다.\n",
        "- PyTorch의 텐서는 \"자동 미분\" 기능을 제공한다."
      ],
      "metadata": {
        "id": "J6uhXCap9jV5"
      }
    },
    {
      "cell_type": "markdown",
      "source": [
        "## **1) 텐서의 속성**\n",
        "  - 텐서의 **기본 속성**으로는 다음과 같은 것들이 있다.\n",
        "  - 모양(shape)\n",
        "  - 자료형(data type)\n",
        "  - 저장된 장치"
      ],
      "metadata": {
        "id": "YPSKllQU9uxy"
      }
    },
    {
      "cell_type": "code",
      "execution_count": 4,
      "metadata": {
        "colab": {
          "base_uri": "https://localhost:8080/"
        },
        "id": "tp0wLYPQ9e59",
        "outputId": "d64cc8ce-2439-47d3-ad0e-c28358b1c7b9"
      },
      "outputs": [
        {
          "output_type": "stream",
          "name": "stdout",
          "text": [
            "tensor([[0.3793, 0.7553, 0.6673, 0.9944],\n",
            "        [0.8662, 0.4401, 0.2837, 0.3837],\n",
            "        [0.2185, 0.1069, 0.6877, 0.7716]])\n",
            "Shape : torch.Size([3, 4])\n",
            "Datatype : torch.float32\n",
            "Device : cpu\n"
          ]
        }
      ],
      "source": [
        "import torch\n",
        "\n",
        "tensor = torch.rand(3, 4)\n",
        "\n",
        "print(tensor)\n",
        "print(f\"Shape : {tensor.shape}\")\n",
        "print(f\"Datatype : {tensor.dtype}\")\n",
        "print(f\"Device : {tensor.device}\")"
      ]
    },
    {
      "cell_type": "markdown",
      "source": [
        "## **2) 텐서 초기화**\n",
        "- 리스트 데이터에서 직접 텐서를 초기화할 수 있다."
      ],
      "metadata": {
        "id": "s1j3rOiY-ffy"
      }
    },
    {
      "cell_type": "code",
      "source": [
        "data = [\n",
        "    [1, 2],\n",
        "    [3, 4]\n",
        "]\n",
        "x = torch.tensor(data)\n",
        "\n",
        "print(x)"
      ],
      "metadata": {
        "colab": {
          "base_uri": "https://localhost:8080/"
        },
        "id": "luMpPaW_-ALO",
        "outputId": "d88fa344-25ef-47cf-fa1e-f233acd73ed0"
      },
      "execution_count": 5,
      "outputs": [
        {
          "output_type": "stream",
          "name": "stdout",
          "text": [
            "tensor([[1, 2],\n",
            "        [3, 4]])\n"
          ]
        }
      ]
    },
    {
      "cell_type": "markdown",
      "source": [
        "- NumPy 배열에서 텐서를 초기화할 수 있다."
      ],
      "metadata": {
        "id": "J2Z9VDar-rME"
      }
    },
    {
      "cell_type": "code",
      "source": [
        "a = torch.tensor([5])\n",
        "b = torch.tensor([7])\n",
        "\n",
        "c = (a + b).numpy()\n",
        "print(c)\n",
        "print(type(c))\n",
        "\n",
        "result = c * 10\n",
        "tensor = torch.from_numpy(result)\n",
        "print(tensor)\n",
        "print(type(tensor))"
      ],
      "metadata": {
        "colab": {
          "base_uri": "https://localhost:8080/"
        },
        "id": "cmSJlJkd-pdP",
        "outputId": "1956ca53-c463-448c-ca7a-2b06c629bcf9"
      },
      "execution_count": 7,
      "outputs": [
        {
          "output_type": "stream",
          "name": "stdout",
          "text": [
            "[12]\n",
            "<class 'numpy.ndarray'>\n",
            "tensor([120])\n",
            "<class 'torch.Tensor'>\n"
          ]
        }
      ]
    },
    {
      "cell_type": "markdown",
      "source": [
        "## **3) 다른 텐서로부터 텐서 초기화하기**\n",
        "- 다른 텐서의 정보를 토대로 텐서를 초기화할 수 있[link text](https://)다.\n",
        "- **텐서의 속성** : 모양(shape), 자료형(data type)"
      ],
      "metadata": {
        "id": "43eNTyGD_N4T"
      }
    },
    {
      "cell_type": "code",
      "source": [
        "x = torch.tensor([\n",
        "    [5, 7],\n",
        "    [1, 2]\n",
        "])\n",
        "\n",
        "# x와 같은 모양과 자료형을 가지지만, 값이 1인 텐서 생성\n",
        "x_ones = torch.ones_like(x)\n",
        "print(x_ones)\n",
        "# x와 같은 모양을 가지되, 자료형은 float으로 덮어쓰고, 값은 랜덤으로 채우기\n",
        "x_rand = torch.rand_like(x, dtype = torch.float32) # uniform distribution(0, 1)\n",
        "print(x_rand)"
      ],
      "metadata": {
        "colab": {
          "base_uri": "https://localhost:8080/"
        },
        "id": "yFTY4LT_-1mW",
        "outputId": "52c38707-d3e6-4e46-8f04-f1c1bbf7feda"
      },
      "execution_count": 9,
      "outputs": [
        {
          "output_type": "stream",
          "name": "stdout",
          "text": [
            "tensor([[1, 1],\n",
            "        [1, 1]])\n",
            "tensor([[0.6703, 0.9598],\n",
            "        [0.3283, 0.0727]])\n"
          ]
        }
      ]
    },
    {
      "cell_type": "markdown",
      "source": [
        "# **2. 텐서의 형변환 및 차원 조작**\n",
        "- 텐서는 넘파이 배열처럼 조작할 수 있다."
      ],
      "metadata": {
        "id": "llM1LQQlALgh"
      }
    },
    {
      "cell_type": "markdown",
      "source": [
        "## **1) 텐서의 특정 차원 접근하기**\n",
        "- 텐서의 원하는 차원에 접근할 수 있다."
      ],
      "metadata": {
        "id": "o1XbkPGsARAv"
      }
    },
    {
      "cell_type": "code",
      "source": [
        "tensor = torch.tensor([\n",
        "    [1, 2, 3, 4],\n",
        "    [5, 6, 7, 8],\n",
        "    [9, 10, 11, 12]\n",
        "])\n",
        "\n",
        "print(tensor[0]) # first row\n",
        "print(tensor[:, 0]) # first column\n",
        "print(tensor[..., -1]) # last column"
      ],
      "metadata": {
        "colab": {
          "base_uri": "https://localhost:8080/"
        },
        "id": "1fxs6STc_ui3",
        "outputId": "dc2db0d6-0953-4b84-a069-39e9126e3db7"
      },
      "execution_count": 10,
      "outputs": [
        {
          "output_type": "stream",
          "name": "stdout",
          "text": [
            "tensor([1, 2, 3, 4])\n",
            "tensor([1, 5, 9])\n",
            "tensor([ 4,  8, 12])\n"
          ]
        }
      ]
    },
    {
      "cell_type": "markdown",
      "source": [
        "## **2) 텐서 이어 붙이기(concatenate)**\n",
        "- 두 텐서를 이어 붙여 연결하여 새로운 텐서를 만들 수 있다."
      ],
      "metadata": {
        "id": "ceAowhNlA-5P"
      }
    },
    {
      "cell_type": "code",
      "source": [
        "tensor = torch.tensor([\n",
        "    [1, 2, 3, 4],\n",
        "    [5, 6, 7, 8],\n",
        "    [9, 10, 11, 12]\n",
        "])\n",
        "\n",
        "# dim : 텐서를 이어 붙이기 위한 축\n",
        "# 0번 축(행)을 기준으로 이어 붙이기\n",
        "result = torch.cat([tensor, tensor, tensor], dim = 0)\n",
        "print(result)\n",
        "\n",
        "# 1번 축(열)을 기준으로 이어 붙이기\n",
        "result = torch.cat([tensor ,tensor, tensor], dim = 1)\n",
        "print(result)"
      ],
      "metadata": {
        "colab": {
          "base_uri": "https://localhost:8080/"
        },
        "id": "BvGeCXkQAhle",
        "outputId": "5411a281-b54d-46d5-9a0f-4a303dbebc62"
      },
      "execution_count": 11,
      "outputs": [
        {
          "output_type": "stream",
          "name": "stdout",
          "text": [
            "tensor([[ 1,  2,  3,  4],\n",
            "        [ 5,  6,  7,  8],\n",
            "        [ 9, 10, 11, 12],\n",
            "        [ 1,  2,  3,  4],\n",
            "        [ 5,  6,  7,  8],\n",
            "        [ 9, 10, 11, 12],\n",
            "        [ 1,  2,  3,  4],\n",
            "        [ 5,  6,  7,  8],\n",
            "        [ 9, 10, 11, 12]])\n",
            "tensor([[ 1,  2,  3,  4,  1,  2,  3,  4,  1,  2,  3,  4],\n",
            "        [ 5,  6,  7,  8,  5,  6,  7,  8,  5,  6,  7,  8],\n",
            "        [ 9, 10, 11, 12,  9, 10, 11, 12,  9, 10, 11, 12]])\n"
          ]
        }
      ]
    },
    {
      "cell_type": "markdown",
      "source": [
        "## **3) 텐서 형변환(type casting)**\n",
        "- 텐서의 자료형(정수, 실수 등)을 변환할 수 있다."
      ],
      "metadata": {
        "id": "q4f4rjfHB5MR"
      }
    },
    {
      "cell_type": "code",
      "source": [
        "a = torch.tensor([2], dtype = torch.int)\n",
        "b = torch.tensor([5.0])\n",
        "\n",
        "print(a.dtype)\n",
        "print(b.dtype)\n",
        "\n",
        "# 텐서 a는 자동으로 float32형으로 형변환 처리\n",
        "print(a + b)\n",
        "# 텐서 b는 int32형으로 형변환하여 덧셈 수행\n",
        "print(a + b.type(torch.int32))"
      ],
      "metadata": {
        "colab": {
          "base_uri": "https://localhost:8080/"
        },
        "id": "k298oBe9Bl5U",
        "outputId": "2231d658-bd99-4dee-c171-e74178b81038"
      },
      "execution_count": 12,
      "outputs": [
        {
          "output_type": "stream",
          "name": "stdout",
          "text": [
            "torch.int32\n",
            "torch.float32\n",
            "tensor([7.])\n",
            "tensor([7], dtype=torch.int32)\n"
          ]
        }
      ]
    },
    {
      "cell_type": "markdown",
      "source": [
        "## **4) 텐서의 모양 변경**\n",
        "- view()는 텐서의 모양을 변경할 때 사용한다.\n",
        "- 이때, 텐서의 순서는 변경되지 않는다."
      ],
      "metadata": {
        "id": "_WEGRF4tCUMr"
      }
    },
    {
      "cell_type": "code",
      "source": [
        "# view()는 텐서의 모양을 변경할 때 사용한다.\n",
        "# 이때, 텐서의 순서는 변경되지 않는다.\n",
        "a = torch.tensor([1, 2, 3, 4, 5, 6, 7, 8])\n",
        "b = a.view(4, 2)\n",
        "print(b)\n",
        "\n",
        "# a의 값을 변경하면 b도 변경\n",
        "a[0] = 7\n",
        "print(b)\n",
        "\n",
        "# a의 값을 복사한 뒤에 변경\n",
        "c = a.clone().view(4, 2)\n",
        "a[0] = 9\n",
        "print(c)"
      ],
      "metadata": {
        "colab": {
          "base_uri": "https://localhost:8080/"
        },
        "id": "4q_4s0gaCRNV",
        "outputId": "b161e658-3ae4-4c5d-c91a-7620556a8351"
      },
      "execution_count": 15,
      "outputs": [
        {
          "output_type": "stream",
          "name": "stdout",
          "text": [
            "tensor([[1, 2],\n",
            "        [3, 4],\n",
            "        [5, 6],\n",
            "        [7, 8]])\n",
            "tensor([[7, 2],\n",
            "        [3, 4],\n",
            "        [5, 6],\n",
            "        [7, 8]])\n",
            "tensor([[7, 2],\n",
            "        [3, 4],\n",
            "        [5, 6],\n",
            "        [7, 8]])\n"
          ]
        }
      ]
    },
    {
      "cell_type": "markdown",
      "source": [
        "## **5) 텐서의 차원 교환**\n",
        "- 하나의 텐서에서 특정한 차원끼리 순서를 교체할 수 있다."
      ],
      "metadata": {
        "id": "0TseyUhwC_B-"
      }
    },
    {
      "cell_type": "code",
      "source": [
        "a = torch.rand((64, 32, 3))\n",
        "print(a.shape)\n",
        "\n",
        "b = a.permute(2, 1, 0) # 차원 자체를 교환\n",
        "# (2번째 축, 1번째 축, 0번째 축)의 형태가 되도록 한다.\n",
        "print(b.shape)"
      ],
      "metadata": {
        "colab": {
          "base_uri": "https://localhost:8080/"
        },
        "id": "p-D0CFsPCoxn",
        "outputId": "4877c26a-4175-475e-e860-75ce31e6b9f7"
      },
      "execution_count": 16,
      "outputs": [
        {
          "output_type": "stream",
          "name": "stdout",
          "text": [
            "torch.Size([64, 32, 3])\n",
            "torch.Size([3, 32, 64])\n"
          ]
        }
      ]
    },
    {
      "cell_type": "markdown",
      "source": [
        "# **3. 텐서의 연산과 함수**"
      ],
      "metadata": {
        "id": "YZreyzdJDUdm"
      }
    },
    {
      "cell_type": "markdown",
      "source": [
        "## **1) 텐서의 연산**\n",
        "- 텐서에 대하여 사칙연산 등 기본적인 연산을 수행할 수 있다."
      ],
      "metadata": {
        "id": "uqy20nUZDZLl"
      }
    },
    {
      "cell_type": "code",
      "source": [
        "# 같은 크기를 가진 두 개의 텐서에 대하여 사칙연산 가능\n",
        "# 기본적으로 요소별(element-wise) 연산\n",
        "a = torch.tensor([\n",
        "    [1, 2],\n",
        "    [3, 4]\n",
        "])\n",
        "b = torch.tensor([\n",
        "    [5, 6],\n",
        "    [7, 8]\n",
        "])\n",
        "print(a + b)\n",
        "print(a - b)\n",
        "print(a * b)\n",
        "print(a / b)"
      ],
      "metadata": {
        "colab": {
          "base_uri": "https://localhost:8080/"
        },
        "id": "M_Amo91yDQDm",
        "outputId": "3e56dcf3-ea66-4db4-b178-dde5e1107779"
      },
      "execution_count": 17,
      "outputs": [
        {
          "output_type": "stream",
          "name": "stdout",
          "text": [
            "tensor([[ 6,  8],\n",
            "        [10, 12]])\n",
            "tensor([[-4, -4],\n",
            "        [-4, -4]])\n",
            "tensor([[ 5, 12],\n",
            "        [21, 32]])\n",
            "tensor([[0.2000, 0.3333],\n",
            "        [0.4286, 0.5000]])\n"
          ]
        }
      ]
    },
    {
      "cell_type": "markdown",
      "source": [
        "- 행렬 곱을 수행할 수 있다."
      ],
      "metadata": {
        "id": "vv-1-7MOD3r-"
      }
    },
    {
      "cell_type": "code",
      "source": [
        "a = torch.tensor([\n",
        "    [1, 2],\n",
        "    [3, 4]\n",
        "])\n",
        "b = torch.tensor([\n",
        "    [5, 6],\n",
        "    [7, 8]\n",
        "])\n",
        "# 행렬 곱(matrix multiplication) 수행\n",
        "print(a.matmul(b))\n",
        "print(torch.matmul(a, b))"
      ],
      "metadata": {
        "colab": {
          "base_uri": "https://localhost:8080/"
        },
        "id": "uW98Nn82Dvcx",
        "outputId": "8932170e-bbb8-4edc-d882-4af8a04f852f"
      },
      "execution_count": 18,
      "outputs": [
        {
          "output_type": "stream",
          "name": "stdout",
          "text": [
            "tensor([[19, 22],\n",
            "        [43, 50]])\n",
            "tensor([[19, 22],\n",
            "        [43, 50]])\n"
          ]
        }
      ]
    },
    {
      "cell_type": "markdown",
      "source": [
        "## **2) 텐서의 평균 함수**\n",
        "- 텐서의 평균(mean)을 계산할 수 있다."
      ],
      "metadata": {
        "id": "tyDRdUftEO3w"
      }
    },
    {
      "cell_type": "code",
      "source": [
        "a = torch.Tensor([\n",
        "    [1, 2, 3, 4],\n",
        "    [5, 6, 7, 8]\n",
        "])\n",
        "print(a)\n",
        "print(a.mean()) # 전체 원소에 대한 평균\n",
        "print(a.mean(dim = 0)) # 각 열에 대하여 평균 계산\n",
        "print(a.mean(dim = 1)) # 각 행에 대하여 평균 계산"
      ],
      "metadata": {
        "colab": {
          "base_uri": "https://localhost:8080/"
        },
        "id": "Jk7_dyqvEMz3",
        "outputId": "da07ddc4-2194-470b-9e5f-76c3b4298ee8"
      },
      "execution_count": 19,
      "outputs": [
        {
          "output_type": "stream",
          "name": "stdout",
          "text": [
            "tensor([[1., 2., 3., 4.],\n",
            "        [5., 6., 7., 8.]])\n",
            "tensor(4.5000)\n",
            "tensor([3., 4., 5., 6.])\n",
            "tensor([2.5000, 6.5000])\n"
          ]
        }
      ]
    },
    {
      "cell_type": "markdown",
      "source": [
        "## **3) 텐서의 합계 함수**\n",
        "- 텐서의 합계(sum)를 계산할 수 있다."
      ],
      "metadata": {
        "id": "O6QQaT8XEqVt"
      }
    },
    {
      "cell_type": "code",
      "source": [
        "a = torch.Tensor([\n",
        "    [1, 2, 3, 4],\n",
        "    [5, 6, 7, 8]\n",
        "])\n",
        "print(a)\n",
        "print(a.sum()) # 전체 원소에 대한 합계\n",
        "print(a.sum(dim = 0)) # 각 열에 대하여 합계 계산\n",
        "print(a.sum(dim = 1)) # 각 행에 대하여 합계 계산"
      ],
      "metadata": {
        "colab": {
          "base_uri": "https://localhost:8080/"
        },
        "id": "kfuTeUNsEinx",
        "outputId": "6fdcfce2-d987-4d62-cbe5-3c3aa0fc6c55"
      },
      "execution_count": 20,
      "outputs": [
        {
          "output_type": "stream",
          "name": "stdout",
          "text": [
            "tensor([[1., 2., 3., 4.],\n",
            "        [5., 6., 7., 8.]])\n",
            "tensor(36.)\n",
            "tensor([ 6.,  8., 10., 12.])\n",
            "tensor([10., 26.])\n"
          ]
        }
      ]
    },
    {
      "cell_type": "markdown",
      "source": [
        "## **4) 텐서의 최대 함수**\n",
        "- **max()** 함수는 원소의 최댓값을 반환한다.\n",
        "- **argmax()** 함수는 가장 큰 원소(최댓값)의 인덱스를 반환한다."
      ],
      "metadata": {
        "id": "14Qn5z2DFGKg"
      }
    },
    {
      "cell_type": "code",
      "source": [
        "a = torch.Tensor([\n",
        "    [1, 2, 3, 4],\n",
        "    [5, 6, 7, 8]\n",
        "])\n",
        "print(a)\n",
        "print(a.max()) # 전체 원소에 대한 최댓값\n",
        "print(a.max(dim = 0)) # 각 열에 대하여 최댓값 계산\n",
        "print(a.max(dim = 1)) # 각 행에 대하여 최댓값 계산"
      ],
      "metadata": {
        "colab": {
          "base_uri": "https://localhost:8080/"
        },
        "id": "z85jpxivFEgN",
        "outputId": "4f664920-f90e-41e0-8c0a-6a2e70666e66"
      },
      "execution_count": 21,
      "outputs": [
        {
          "output_type": "stream",
          "name": "stdout",
          "text": [
            "tensor([[1., 2., 3., 4.],\n",
            "        [5., 6., 7., 8.]])\n",
            "tensor(8.)\n",
            "torch.return_types.max(\n",
            "values=tensor([5., 6., 7., 8.]),\n",
            "indices=tensor([1, 1, 1, 1]))\n",
            "torch.return_types.max(\n",
            "values=tensor([4., 8.]),\n",
            "indices=tensor([3, 3]))\n"
          ]
        }
      ]
    },
    {
      "cell_type": "code",
      "source": [
        "a = torch.Tensor([\n",
        "    [1, 2, 3, 4],\n",
        "    [5, 6, 7, 8]\n",
        "])\n",
        "print(a)\n",
        "print(a.argmax()) # 전체 원소에 대한 최댓값의 인덱스\n",
        "print(a.argmax(dim = 0)) # 각 열에 대하여 최댓값의 인덱스 계산\n",
        "print(a.argmax(dim = 1)) # 각 행에 대하여 최댓값으 인덱스 계산"
      ],
      "metadata": {
        "colab": {
          "base_uri": "https://localhost:8080/"
        },
        "id": "77ix5iiVFaTs",
        "outputId": "fa6dbc8c-8347-4ed5-8ae8-f4bcb98fa0bf"
      },
      "execution_count": 22,
      "outputs": [
        {
          "output_type": "stream",
          "name": "stdout",
          "text": [
            "tensor([[1., 2., 3., 4.],\n",
            "        [5., 6., 7., 8.]])\n",
            "tensor(7)\n",
            "tensor([1, 1, 1, 1])\n",
            "tensor([3, 3])\n"
          ]
        }
      ]
    },
    {
      "cell_type": "markdown",
      "source": [
        "## **5) 텐서의 차원 줄이기 혹은 늘리기**\n",
        "- **unsqueeze()** 함수는 크기가 1인 차원을 추가한다.\n",
        "  - 배치(batch) 차원을 추가하기 위한 목적으로 흔히 사용된다.\n",
        "- **squeeze()** 함수는 크기가 1인 차원을 제거한다."
      ],
      "metadata": {
        "id": "4FsScLkWFzmz"
      }
    },
    {
      "cell_type": "code",
      "source": [
        "a = torch.Tensor([\n",
        "    [1, 2, 3, 4],\n",
        "    [5, 6, 7, 8]\n",
        "])\n",
        "print(a.shape)\n",
        "\n",
        "# 첫 번째 축에 차원 추가\n",
        "a = a.unsqueeze(0)\n",
        "print(a)\n",
        "print(a.shape)\n",
        "\n",
        "# 네 번째 축에 차원 추가\n",
        "a = a.unsqueeze(3)\n",
        "print(a)\n",
        "print(a.shape)"
      ],
      "metadata": {
        "colab": {
          "base_uri": "https://localhost:8080/"
        },
        "id": "cVggegvGFwOr",
        "outputId": "1ab2367f-4f3b-47b5-dadd-15be54f46e6f"
      },
      "execution_count": 23,
      "outputs": [
        {
          "output_type": "stream",
          "name": "stdout",
          "text": [
            "torch.Size([2, 4])\n",
            "tensor([[[1., 2., 3., 4.],\n",
            "         [5., 6., 7., 8.]]])\n",
            "torch.Size([1, 2, 4])\n",
            "tensor([[[[1.],\n",
            "          [2.],\n",
            "          [3.],\n",
            "          [4.]],\n",
            "\n",
            "         [[5.],\n",
            "          [6.],\n",
            "          [7.],\n",
            "          [8.]]]])\n",
            "torch.Size([1, 2, 4, 1])\n"
          ]
        }
      ]
    },
    {
      "cell_type": "code",
      "source": [
        "# 크기가 1인 차원 제거\n",
        "a = a.squeeze()\n",
        "print(a)\n",
        "print(a.shape)"
      ],
      "metadata": {
        "colab": {
          "base_uri": "https://localhost:8080/"
        },
        "id": "w7KwvUyEGNmw",
        "outputId": "91c64de5-7b21-4121-9771-249dd791f99c"
      },
      "execution_count": 24,
      "outputs": [
        {
          "output_type": "stream",
          "name": "stdout",
          "text": [
            "tensor([[1., 2., 3., 4.],\n",
            "        [5., 6., 7., 8.]])\n",
            "torch.Size([2, 4])\n"
          ]
        }
      ]
    },
    {
      "cell_type": "markdown",
      "source": [
        "# **4. 자동 미분과 기울기(Gradient)**\n",
        "- PyTorch에서는 연산에 대하여 자동 미분을 수행할 수 있다."
      ],
      "metadata": {
        "id": "2o6HutvPGwoC"
      }
    },
    {
      "cell_type": "code",
      "source": [
        "# requires_grad를 설정할 때만 기울기 추적\n",
        "x = torch.tensor([3.0, 4.0], requires_grad = True)\n",
        "y = torch.tensor([1.0, 2.0], requires_grad = True)\n",
        "z = x + y\n",
        "\n",
        "print(z) # [4.0, 6.0]\n",
        "print(z.grad_fn) # 더하기(add)\n",
        "\n",
        "out = z.mean()\n",
        "print(out) # 5.0\n",
        "print(out.grad_fn) # 평균(mean)\n",
        "\n",
        "out.backward() # scalar에 대하여 가능\n",
        "print(x.grad)\n",
        "print(y.grad)\n",
        "print(z.grad) # leaf variable에 대해서만 gradient 추적이 가능하다. 따라서 None.\n"
      ],
      "metadata": {
        "colab": {
          "base_uri": "https://localhost:8080/"
        },
        "id": "1bYe9xlPG55D",
        "outputId": "3c819d7b-7836-4aae-f48d-f077a0234875"
      },
      "execution_count": 25,
      "outputs": [
        {
          "output_type": "stream",
          "name": "stdout",
          "text": [
            "tensor([4., 6.], grad_fn=<AddBackward0>)\n",
            "<AddBackward0 object at 0x79802f3c3ee0>\n",
            "tensor(5., grad_fn=<MeanBackward0>)\n",
            "<MeanBackward0 object at 0x79803914ccd0>\n",
            "tensor([0.5000, 0.5000])\n",
            "tensor([0.5000, 0.5000])\n",
            "None\n"
          ]
        },
        {
          "output_type": "stream",
          "name": "stderr",
          "text": [
            "<ipython-input-25-89dc4b9bc477>:16: UserWarning: The .grad attribute of a Tensor that is not a leaf Tensor is being accessed. Its .grad attribute won't be populated during autograd.backward(). If you indeed want the .grad field to be populated for a non-leaf Tensor, use .retain_grad() on the non-leaf Tensor. If you access the non-leaf Tensor by mistake, make sure you access the leaf Tensor instead. See github.com/pytorch/pytorch/pull/30531 for more informations. (Triggered internally at aten/src/ATen/core/TensorBody.h:489.)\n",
            "  print(z.grad) # leaf variable에 대해서만 gradient 추적이 가능하다. 따라서 None.\n"
          ]
        }
      ]
    },
    {
      "cell_type": "markdown",
      "source": [
        "- 일반적으로 모델을 학습할 때는 **기울기(gradient)를 추적**한다.\n",
        "- 하지만, 학습된 모델을 사용할 때는 파라미터를 업데이트하지 않으므로, 기울기를 추적하지 않는 것이 일반적이다."
      ],
      "metadata": {
        "id": "bWO-U379H1-f"
      }
    },
    {
      "cell_type": "code",
      "source": [
        "temp = torch.tensor([3.0, 4.0], requires_grad = True)\n",
        "print(temp.requires_grad)\n",
        "print((temp ** 2).requires_grad)\n",
        "\n",
        "# 기울기 추적을 하지 않기 때문에 계산 속도가 더 빠르다.\n",
        "with torch.no_grad() :\n",
        "  temp = torch.tensor([3.0, 4.0], requires_grad = True)\n",
        "  print(temp.requires_grad)\n",
        "  print((temp ** 2).requires_grad)"
      ],
      "metadata": {
        "colab": {
          "base_uri": "https://localhost:8080/"
        },
        "id": "TxoCjvTgHbap",
        "outputId": "7e814eb2-6bba-4553-ac2a-31b309b290cd"
      },
      "execution_count": 27,
      "outputs": [
        {
          "output_type": "stream",
          "name": "stdout",
          "text": [
            "True\n",
            "True\n",
            "True\n",
            "False\n"
          ]
        }
      ]
    },
    {
      "cell_type": "code",
      "source": [],
      "metadata": {
        "id": "Rw9GDRRNIaKG"
      },
      "execution_count": null,
      "outputs": []
    }
  ]
}