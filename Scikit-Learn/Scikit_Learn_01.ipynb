{
  "nbformat": 4,
  "nbformat_minor": 0,
  "metadata": {
    "colab": {
      "provenance": [],
      "authorship_tag": "ABX9TyPAtaWE5a2SC4DeUS6zSykO",
      "include_colab_link": true
    },
    "kernelspec": {
      "name": "python3",
      "display_name": "Python 3"
    },
    "language_info": {
      "name": "python"
    }
  },
  "cells": [
    {
      "cell_type": "markdown",
      "metadata": {
        "id": "view-in-github",
        "colab_type": "text"
      },
      "source": [
        "<a href=\"https://colab.research.google.com/github/sournara/Computer_Vision_Study/blob/main/Scikit-Learn/Scikit_Learn_01.ipynb\" target=\"_parent\"><img src=\"https://colab.research.google.com/assets/colab-badge.svg\" alt=\"Open In Colab\"/></a>"
      ]
    },
    {
      "cell_type": "markdown",
      "source": [
        "# **사이킷런(Scikit-Learn) 소개**\n",
        "- **사이킷런(scikit-learn)**은 기계 학습을 위한 다양한 기능을 제공하는 파이썬 라이브러리다.\n",
        "- 가상 데이터(분류 등) 생성 기능을 제공한다.\n",
        "- 기계 학습을 위해 다양한 기본적인 데이터 세트를 제공한다.\n",
        "- 다양한 **기계 학습** 모델(SVM, 랜덤 포레스트 등)을 제공한다."
      ],
      "metadata": {
        "id": "77p-akEPw3pY"
      }
    },
    {
      "cell_type": "markdown",
      "source": [
        "## **1) 지도 학습(Supervised Learning)이란 ?**\n",
        "- 데이터에 대하여 **정답 레이블(label)**이 존재하는 상황에서의 학습 방법이다.\n",
        "- 지도 학습의 전형적인 예시는 다음과 같다.\n",
        "    - **학습 단계** : 이미지 x를 보고 레이블 y를 예측하도록 학습\n",
        "    - **테스트 단계** : 새로운 이미지 x가 주어졌을 때, 클래스를 예측하기"
      ],
      "metadata": {
        "id": "EGd8Fe-pxIal"
      }
    },
    {
      "cell_type": "markdown",
      "source": [
        "## **2) 붓꽃(iris) 품종 예측 데이터 세트**\n",
        "- 붓꽃에 대한 정보가 주어지면, 어떠한 붓꽃 클래스에 해당하는지 맞히는 데이터 세트다.\n",
        "    - 총 150개의 데이터로 구성된다.\n",
        "- 대표적인 지도 학습 데이터다.\n",
        "- **입력 데이터**는 4개의 특징으로 구성된다.\n",
        "    - 꽃받침 길이(sepal length)\n",
        "    - 꽃받침 너비(sepal width)\n",
        "    - 꽃잎 길이(petal length)\n",
        "    - 꽃잎 너비(petal width)\n",
        "- **출력 데이터**는 3개의 클래스로 구성된다.\n",
        "    - 부채붓꽃(setosa)\n",
        "    - 버시컬러(versicolor)\n",
        "    - 버지니카(virginica)"
      ],
      "metadata": {
        "id": "sXEiaNg0xX-t"
      }
    },
    {
      "cell_type": "code",
      "execution_count": 2,
      "metadata": {
        "colab": {
          "base_uri": "https://localhost:8080/"
        },
        "id": "IgXZw_4YwjtB",
        "outputId": "65e3457e-3a7d-4f2a-9af4-5eeec3460476"
      },
      "outputs": [
        {
          "output_type": "stream",
          "name": "stdout",
          "text": [
            "총 데이터 개수 : 150\n",
            "[입력 특징]\n",
            "1 : sepal length (cm)\n",
            "2 : sepal width (cm)\n",
            "3 : petal length (cm)\n",
            "4 : petal width (cm)\n",
            "[입력 데이터 예시]\n",
            "[[5.1 3.5 1.4 0.2]\n",
            " [4.9 3.  1.4 0.2]\n",
            " [4.7 3.2 1.3 0.2]\n",
            " [4.6 3.1 1.5 0.2]\n",
            " [5.  3.6 1.4 0.2]]\n",
            "[출력 특징]\n",
            "1 : setosa\n",
            "2 : versicolor\n",
            "3 : virginica\n",
            "[출력 데이터 예시]\n",
            "[0 0 0 0 0]\n"
          ]
        }
      ],
      "source": [
        "from sklearn.datasets import load_iris\n",
        "\n",
        "# 데이터 세트 불러오기\n",
        "dataset = load_iris()\n",
        "# 데이터 세트에서 필요한 정보 가져오기\n",
        "data = dataset[\"data\"]\n",
        "target = dataset[\"target\"]\n",
        "feature_names = dataset[\"feature_names\"]\n",
        "target_names = dataset[\"target_names\"]\n",
        "\n",
        "print(f\"총 데이터 개수 : {len(data)}\")\n",
        "print(\"[입력 특징]\")\n",
        "for i in range(len(feature_names)) :\n",
        "    feature_name = feature_names[i]\n",
        "    print(f\"{i + 1} : {feature_name}\")\n",
        "print(\"[입력 데이터 예시]\")\n",
        "print(data[:5])\n",
        "print(\"[출력 특징]\")\n",
        "for i in range(len(target_names)) :\n",
        "    target_name = target_names[i]\n",
        "    print(f\"{i + 1} : {target_name}\")\n",
        "print(\"[출력 데이터 예시]\")\n",
        "print(target[:5])"
      ]
    }
  ]
}