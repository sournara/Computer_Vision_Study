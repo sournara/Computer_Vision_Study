{
  "nbformat": 4,
  "nbformat_minor": 0,
  "metadata": {
    "colab": {
      "provenance": [],
      "gpuType": "T4",
      "authorship_tag": "ABX9TyO9WvgWupvqgk2wuqUNxCob",
      "include_colab_link": true
    },
    "kernelspec": {
      "name": "python3",
      "display_name": "Python 3"
    },
    "language_info": {
      "name": "python"
    },
    "accelerator": "GPU"
  },
  "cells": [
    {
      "cell_type": "markdown",
      "metadata": {
        "id": "view-in-github",
        "colab_type": "text"
      },
      "source": [
        "<a href=\"https://colab.research.google.com/github/sournara/Computer_Vision_Study/blob/main/TensorFlow/TensorFlow_01.ipynb\" target=\"_parent\"><img src=\"https://colab.research.google.com/assets/colab-badge.svg\" alt=\"Open In Colab\"/></a>"
      ]
    },
    {
      "cell_type": "markdown",
      "source": [
        "# **1. 텐서플로우(TensorFlow) 개요**\n",
        "- Tensorflow는 기계 학습 프레임워크 중 하나다.\n",
        "    - Tensorflow에서는 텐서를 NumPy 배열처럼 사용할 수 있다.\n",
        "- Tensorflow를 사용하면, GPU 연동을 통해 효율적으로 딥러닝 모델을 학습할 수 있다.\n",
        "- Google Colab을 이용하면, 손쉽게 Tensorflow를 시작할 수 있다.\n",
        "- Google Colab에서는 [런타임]-[런타임 유형 변경]에서 GPU를 선택할 수 있다."
      ],
      "metadata": {
        "id": "ygehVf7RIHgw"
      }
    },
    {
      "cell_type": "code",
      "execution_count": 1,
      "metadata": {
        "id": "7XsW_KMIIAkQ"
      },
      "outputs": [],
      "source": [
        "import tensorflow as tf"
      ]
    },
    {
      "cell_type": "markdown",
      "source": [
        "## **1) GPU 사용 여부 체크하기**\n",
        "- GPU를 사용하면 텐서플로우에서 딥러닝 모델을 더욱 효과적으로 학습할 수 있다.\n",
        "- 각 텐서와 연산이 어떠한 장치에 할당되었는지 출력할 수 있다."
      ],
      "metadata": {
        "id": "mtUKWFqhIhf2"
      }
    },
    {
      "cell_type": "code",
      "source": [
        "# 각 텐서와 연산이 어떠한 장치에 할당되었는지 출력하기\n",
        "tf.debugging.set_log_device_placement(True)\n",
        "\n",
        "# 텐서 생성\n",
        "a = tf.constant([\n",
        "    [1, 1],\n",
        "    [2, 2]\n",
        "])\n",
        "b = tf.constant([\n",
        "    [5, 6],\n",
        "    [7, 8]\n",
        "])\n",
        "\n",
        "c = tf.matmul(a, b)\n",
        "print(c)\n",
        "\n",
        "tf.debugging.set_log_device_placement(False)"
      ],
      "metadata": {
        "colab": {
          "base_uri": "https://localhost:8080/"
        },
        "id": "KvkH2bxdIghL",
        "outputId": "bd7bc021-c57f-4dd3-996c-54d12b654ca5"
      },
      "execution_count": 2,
      "outputs": [
        {
          "output_type": "stream",
          "name": "stdout",
          "text": [
            "Executing op _EagerConst in device /job:localhost/replica:0/task:0/device:GPU:0\n",
            "Executing op _EagerConst in device /job:localhost/replica:0/task:0/device:GPU:0\n",
            "Executing op MatMul in device /job:localhost/replica:0/task:0/device:CPU:0\n",
            "tf.Tensor(\n",
            "[[12 14]\n",
            " [24 28]], shape=(2, 2), dtype=int32)\n"
          ]
        }
      ]
    },
    {
      "cell_type": "code",
      "source": [
        "from tensorflow.python.client import device_lib\n",
        "\n",
        "# 구체적으로 사용 중인 장치(device) 정보 출력\n",
        "device_lib.list_local_devices()"
      ],
      "metadata": {
        "colab": {
          "base_uri": "https://localhost:8080/"
        },
        "id": "7OJDnGMGLNDA",
        "outputId": "9346062f-22c6-4807-ec01-41d9278c893c"
      },
      "execution_count": 3,
      "outputs": [
        {
          "output_type": "execute_result",
          "data": {
            "text/plain": [
              "[name: \"/device:CPU:0\"\n",
              " device_type: \"CPU\"\n",
              " memory_limit: 268435456\n",
              " locality {\n",
              " }\n",
              " incarnation: 13441553135139931826\n",
              " xla_global_id: -1,\n",
              " name: \"/device:GPU:0\"\n",
              " device_type: \"GPU\"\n",
              " memory_limit: 14626652160\n",
              " locality {\n",
              "   bus_id: 1\n",
              "   links {\n",
              "   }\n",
              " }\n",
              " incarnation: 6486164614977760670\n",
              " physical_device_desc: \"device: 0, name: Tesla T4, pci bus id: 0000:00:04.0, compute capability: 7.5\"\n",
              " xla_global_id: 416903419]"
            ]
          },
          "metadata": {},
          "execution_count": 3
        }
      ]
    },
    {
      "cell_type": "markdown",
      "source": [
        "# **2. 텐서 소개 및 생성 방법**\n",
        "- PyTorch에서의 텐서는 기능적으로 넘파이(NumPy)와 매우 유사하다.\n",
        "- 기본적으로 **다차원 배열**을 처리하기에 적합한 자료구조로 이해할 수 있다.\n",
        "- PyTorch의 텐서는 \"자동 미분\" 기능을 제공한다."
      ],
      "metadata": {
        "id": "BcIgX68sLywF"
      }
    },
    {
      "cell_type": "markdown",
      "source": [
        "## **1) 텐서의 속성**\n",
        "- 텐서의 **기본 속성**으로는 다음과 같은 것들이 있다.\n",
        "    - 모양(shape)\n",
        "    - 자료형(data type)\n",
        "    - 저장된 장치"
      ],
      "metadata": {
        "id": "m0V6SEBHL_rX"
      }
    },
    {
      "cell_type": "code",
      "source": [
        "# 기본적인 모양(shape), 자료형(data type) 출력\n",
        "data = [\n",
        "    [1, 2],\n",
        "    [3, 4]\n",
        "]\n",
        "x = tf.constant(data)\n",
        "\n",
        "print(x)\n",
        "print(tf.rank(x)) # 차원 출력"
      ],
      "metadata": {
        "colab": {
          "base_uri": "https://localhost:8080/"
        },
        "id": "g8szs-hSLk1R",
        "outputId": "03a793b9-8fc7-49e5-e6a5-a803cd76509a"
      },
      "execution_count": 4,
      "outputs": [
        {
          "output_type": "stream",
          "name": "stdout",
          "text": [
            "Executing op _EagerConst in device /job:localhost/replica:0/task:0/device:GPU:0\n",
            "tf.Tensor(\n",
            "[[1 2]\n",
            " [3 4]], shape=(2, 2), dtype=int32)\n",
            "Executing op _EagerConst in device /job:localhost/replica:0/task:0/device:GPU:0\n",
            "tf.Tensor(2, shape=(), dtype=int32)\n"
          ]
        }
      ]
    },
    {
      "cell_type": "markdown",
      "source": [
        "## **2) 텐서 초기화**\n",
        "- 리스트 데이터에서 직접 텐서를 초기화할 수 있다."
      ],
      "metadata": {
        "id": "YCdnHV5VMbOw"
      }
    },
    {
      "cell_type": "code",
      "source": [
        "data = [\n",
        "    [1, 2],\n",
        "    [3, 4]\n",
        "]\n",
        "x = tf.constant(data)\n",
        "print(x)\n",
        "print(tf.rank(x)) # 축(axis)의 개수 출력 = 차원의 개수 출력\n",
        "\n",
        "data = tf.constant(\"String\")\n",
        "print(data)"
      ],
      "metadata": {
        "colab": {
          "base_uri": "https://localhost:8080/"
        },
        "id": "OCJycKQoMZog",
        "outputId": "707f46d0-6752-4b2d-ee2e-21e0cde1bee5"
      },
      "execution_count": 5,
      "outputs": [
        {
          "output_type": "stream",
          "name": "stdout",
          "text": [
            "Executing op _EagerConst in device /job:localhost/replica:0/task:0/device:GPU:0\n",
            "tf.Tensor(\n",
            "[[1 2]\n",
            " [3 4]], shape=(2, 2), dtype=int32)\n",
            "tf.Tensor(2, shape=(), dtype=int32)\n",
            "Executing op _EagerConst in device /job:localhost/replica:0/task:0/device:GPU:0\n",
            "tf.Tensor(b'String', shape=(), dtype=string)\n"
          ]
        }
      ]
    },
    {
      "cell_type": "markdown",
      "source": [
        "- NumPy 배열에서 텐서를 초기화할 수 있다."
      ],
      "metadata": {
        "id": "H4HGqI-XM01N"
      }
    },
    {
      "cell_type": "code",
      "source": [
        "a = tf.constant([5])\n",
        "b = tf.constant([7])\n",
        "\n",
        "c = (a + b).numpy()\n",
        "print(c)\n",
        "print(type(c))\n",
        "\n",
        "result = c * 10\n",
        "tensor = tf.convert_to_tensor(result)\n",
        "print(tensor)\n",
        "print(type(tensor))"
      ],
      "metadata": {
        "colab": {
          "base_uri": "https://localhost:8080/"
        },
        "id": "DXU5LRhtMstK",
        "outputId": "99fd1131-9b65-435c-f238-141edd546ad8"
      },
      "execution_count": 6,
      "outputs": [
        {
          "output_type": "stream",
          "name": "stdout",
          "text": [
            "Executing op _EagerConst in device /job:localhost/replica:0/task:0/device:GPU:0\n",
            "Executing op _EagerConst in device /job:localhost/replica:0/task:0/device:GPU:0\n",
            "Executing op AddV2 in device /job:localhost/replica:0/task:0/device:GPU:0\n",
            "[12]\n",
            "<class 'numpy.ndarray'>\n",
            "Executing op _EagerConst in device /job:localhost/replica:0/task:0/device:GPU:0\n",
            "tf.Tensor([120], shape=(1,), dtype=int32)\n",
            "<class 'tensorflow.python.framework.ops.EagerTensor'>\n"
          ]
        }
      ]
    },
    {
      "cell_type": "markdown",
      "source": [
        "## **3) 다른 텐서로부터 텐서 초기화하기**\n",
        "- 다른 텐서의 정보를 토대로 텐서를 초기화할 수 있다.\n",
        "- **텐서의 속성** : 모양, 자료형"
      ],
      "metadata": {
        "id": "PeoooTAcNIM2"
      }
    },
    {
      "cell_type": "code",
      "source": [
        "x = tf.constant([\n",
        "    [5, 7],\n",
        "    [1, 2]\n",
        "])\n",
        "\n",
        "# x와 같은 모양과 자료형을 가지지만, 값이 1인 텐서 생성\n",
        "x_ones = tf.ones_like(x)\n",
        "print(x_ones)\n",
        "\n",
        "# x와 같은 모양을 가지되, 자료형은 float으로 덮어쓰고, 값은 랜덤으로 채우기\n",
        "x_rand = tf.random.uniform(shape = x.shape, dtype = tf.float32) # uniform distribution [0, 1)\n",
        "print(x_rand)"
      ],
      "metadata": {
        "colab": {
          "base_uri": "https://localhost:8080/"
        },
        "id": "PjsIkQ8_NDhz",
        "outputId": "972d5fc0-43d0-4876-d690-1342880e6274"
      },
      "execution_count": 7,
      "outputs": [
        {
          "output_type": "stream",
          "name": "stdout",
          "text": [
            "Executing op _EagerConst in device /job:localhost/replica:0/task:0/device:GPU:0\n",
            "Executing op OnesLike in device /job:localhost/replica:0/task:0/device:GPU:0\n",
            "tf.Tensor(\n",
            "[[1 1]\n",
            " [1 1]], shape=(2, 2), dtype=int32)\n",
            "Executing op _EagerConst in device /job:localhost/replica:0/task:0/device:GPU:0\n",
            "Executing op RandomUniform in device /job:localhost/replica:0/task:0/device:GPU:0\n",
            "tf.Tensor(\n",
            "[[0.53522766 0.42805064]\n",
            " [0.6049645  0.6002953 ]], shape=(2, 2), dtype=float32)\n"
          ]
        }
      ]
    },
    {
      "cell_type": "markdown",
      "source": [
        "# **3. 텐서의 형변환 및 차원 조작**\n",
        "- 텐서는 넘파이 배열처럼 조작할 수 있다."
      ],
      "metadata": {
        "id": "YuU1VsboNlFv"
      }
    },
    {
      "cell_type": "markdown",
      "source": [
        "## **1) 텐서의 특정 차원 접근하기**\n",
        "- 텐서의 원하는 차원에 접근할 수 있다."
      ],
      "metadata": {
        "id": "c9ApeiK5NrPg"
      }
    },
    {
      "cell_type": "code",
      "source": [
        "tensor = tf.constant([\n",
        "    [1, 2, 3, 4],\n",
        "    [5, 6, 7, 8],\n",
        "    [9, 10, 11, 12]\n",
        "])\n",
        "\n",
        "print(tensor[0]) # first row\n",
        "print(tensor[:, 0]) # first columnn\n",
        "print(tensor[..., -1]) # last column"
      ],
      "metadata": {
        "colab": {
          "base_uri": "https://localhost:8080/"
        },
        "id": "p-aYut0UNh5B",
        "outputId": "c514cc26-de46-49f1-809f-ef3d9927659f"
      },
      "execution_count": 8,
      "outputs": [
        {
          "output_type": "stream",
          "name": "stdout",
          "text": [
            "Executing op _EagerConst in device /job:localhost/replica:0/task:0/device:GPU:0\n",
            "Executing op _EagerConst in device /job:localhost/replica:0/task:0/device:GPU:0\n",
            "Executing op _EagerConst in device /job:localhost/replica:0/task:0/device:GPU:0\n",
            "Executing op _EagerConst in device /job:localhost/replica:0/task:0/device:GPU:0\n",
            "Executing op StridedSlice in device /job:localhost/replica:0/task:0/device:GPU:0\n",
            "tf.Tensor([1 2 3 4], shape=(4,), dtype=int32)\n",
            "Executing op _EagerConst in device /job:localhost/replica:0/task:0/device:GPU:0\n",
            "Executing op _EagerConst in device /job:localhost/replica:0/task:0/device:GPU:0\n",
            "Executing op _EagerConst in device /job:localhost/replica:0/task:0/device:GPU:0\n",
            "Executing op StridedSlice in device /job:localhost/replica:0/task:0/device:GPU:0\n",
            "tf.Tensor([1 5 9], shape=(3,), dtype=int32)\n",
            "Executing op _EagerConst in device /job:localhost/replica:0/task:0/device:GPU:0\n",
            "Executing op _EagerConst in device /job:localhost/replica:0/task:0/device:GPU:0\n",
            "Executing op _EagerConst in device /job:localhost/replica:0/task:0/device:GPU:0\n",
            "Executing op StridedSlice in device /job:localhost/replica:0/task:0/device:GPU:0\n",
            "tf.Tensor([ 4  8 12], shape=(3,), dtype=int32)\n"
          ]
        }
      ]
    },
    {
      "cell_type": "markdown",
      "source": [
        "## **2) 텐서 이어붙이기(Concatenate)**\n",
        "- 두 텐서를 이어 붙여 연결하여 새로운 텐서를 만들 수 있다."
      ],
      "metadata": {
        "id": "jhjLryE5OMAH"
      }
    },
    {
      "cell_type": "code",
      "source": [
        "tensor = tf.constant([\n",
        "    [1, 2, 3, 4],\n",
        "    [5, 6, 7, 8],\n",
        "    [9, 10, 11, 12]\n",
        "])\n",
        "\n",
        "# dim : 텐서를 이어 붙이기 위한 축\n",
        "# 0번 축(행)을 기준으로 이어 붙이기\n",
        "result = tf.concat([tensor, tensor, tensor], axis = 0)\n",
        "print(result)\n",
        "\n",
        "# 1번 축(열)을 기준으로 이어 붙이기\n",
        "result = tf.concat([tensor, tensor, tensor], axis = 1)\n",
        "print(result)"
      ],
      "metadata": {
        "colab": {
          "base_uri": "https://localhost:8080/"
        },
        "id": "JXXRCabnN-VD",
        "outputId": "e861e0dd-23ca-4826-85e1-9f495b39ec55"
      },
      "execution_count": 9,
      "outputs": [
        {
          "output_type": "stream",
          "name": "stdout",
          "text": [
            "Executing op _EagerConst in device /job:localhost/replica:0/task:0/device:GPU:0\n",
            "Executing op _EagerConst in device /job:localhost/replica:0/task:0/device:GPU:0\n",
            "Executing op ConcatV2 in device /job:localhost/replica:0/task:0/device:GPU:0\n",
            "tf.Tensor(\n",
            "[[ 1  2  3  4]\n",
            " [ 5  6  7  8]\n",
            " [ 9 10 11 12]\n",
            " [ 1  2  3  4]\n",
            " [ 5  6  7  8]\n",
            " [ 9 10 11 12]\n",
            " [ 1  2  3  4]\n",
            " [ 5  6  7  8]\n",
            " [ 9 10 11 12]], shape=(9, 4), dtype=int32)\n",
            "Executing op _EagerConst in device /job:localhost/replica:0/task:0/device:GPU:0\n",
            "Executing op ConcatV2 in device /job:localhost/replica:0/task:0/device:GPU:0\n",
            "tf.Tensor(\n",
            "[[ 1  2  3  4  1  2  3  4  1  2  3  4]\n",
            " [ 5  6  7  8  5  6  7  8  5  6  7  8]\n",
            " [ 9 10 11 12  9 10 11 12  9 10 11 12]], shape=(3, 12), dtype=int32)\n"
          ]
        }
      ]
    },
    {
      "cell_type": "markdown",
      "source": [
        "## **3) 텐서 형변환(Type Casting)**\n",
        "- 텐서의 자료형(정수, 실수 등)을 변환할 수 있다."
      ],
      "metadata": {
        "id": "zPktXTWEOsJ3"
      }
    },
    {
      "cell_type": "code",
      "source": [
        "a = tf.constant([2])\n",
        "b = tf.constant([5.0])\n",
        "\n",
        "print(a.dtype)\n",
        "print(b.dtype)\n",
        "\n",
        "# 텐서 a를 float32 형식으로 변경한 뒤에 더하기 수행\n",
        "print(tf.cast(a, tf.float32) + b)"
      ],
      "metadata": {
        "colab": {
          "base_uri": "https://localhost:8080/"
        },
        "id": "A1uyo6kAOjH6",
        "outputId": "4d4fa22c-0f2e-4e43-acb5-a8d8cd64d84b"
      },
      "execution_count": 10,
      "outputs": [
        {
          "output_type": "stream",
          "name": "stdout",
          "text": [
            "Executing op _EagerConst in device /job:localhost/replica:0/task:0/device:GPU:0\n",
            "Executing op _EagerConst in device /job:localhost/replica:0/task:0/device:GPU:0\n",
            "<dtype: 'int32'>\n",
            "<dtype: 'float32'>\n",
            "Executing op Cast in device /job:localhost/replica:0/task:0/device:GPU:0\n",
            "Executing op AddV2 in device /job:localhost/replica:0/task:0/device:GPU:0\n",
            "tf.Tensor([7.], shape=(1,), dtype=float32)\n"
          ]
        }
      ]
    },
    {
      "cell_type": "markdown",
      "source": [
        "## **4) 텐서의 모양 변경**\n",
        "- reshape()는 텐서의 모양을 변경할 때 사용한다.\n",
        "- 이때, 텐서의 순서는 변경되지 않는다."
      ],
      "metadata": {
        "id": "RH4H8QNzO9PW"
      }
    },
    {
      "cell_type": "code",
      "source": [
        "a = tf.Variable([1, 2, 3, 4, 5, 6, 7, 8])\n",
        "b = tf.reshape(a, (4, 2))\n",
        "print(b)\n",
        "\n",
        "# a와 b는 서로 다른 객체\n",
        "a.assign_add([1, 1, 1, 1, 1, 1, 1, 1])\n",
        "print(a)\n",
        "print(b)"
      ],
      "metadata": {
        "colab": {
          "base_uri": "https://localhost:8080/"
        },
        "id": "pwMEVplAO7rR",
        "outputId": "7da45682-9b66-4fca-9d49-a0b2ca7d9761"
      },
      "execution_count": 11,
      "outputs": [
        {
          "output_type": "stream",
          "name": "stdout",
          "text": [
            "Executing op _EagerConst in device /job:localhost/replica:0/task:0/device:GPU:0\n",
            "Executing op VarHandleOp in device /job:localhost/replica:0/task:0/device:CPU:0\n",
            "Executing op AssignVariableOp in device /job:localhost/replica:0/task:0/device:CPU:0\n",
            "Executing op ReadVariableOp in device /job:localhost/replica:0/task:0/device:CPU:0\n",
            "Executing op _EagerConst in device /job:localhost/replica:0/task:0/device:GPU:0\n",
            "Executing op Reshape in device /job:localhost/replica:0/task:0/device:GPU:0\n",
            "tf.Tensor(\n",
            "[[1 2]\n",
            " [3 4]\n",
            " [5 6]\n",
            " [7 8]], shape=(4, 2), dtype=int32)\n",
            "Executing op _EagerConst in device /job:localhost/replica:0/task:0/device:GPU:0\n",
            "Executing op AssignAddVariableOp in device /job:localhost/replica:0/task:0/device:CPU:0\n",
            "Executing op ReadVariableOp in device /job:localhost/replica:0/task:0/device:CPU:0\n",
            "Executing op Identity in device /job:localhost/replica:0/task:0/device:CPU:0\n",
            "<tf.Variable 'Variable:0' shape=(8,) dtype=int32, numpy=array([2, 3, 4, 5, 6, 7, 8, 9], dtype=int32)>\n",
            "tf.Tensor(\n",
            "[[1 2]\n",
            " [3 4]\n",
            " [5 6]\n",
            " [7 8]], shape=(4, 2), dtype=int32)\n"
          ]
        }
      ]
    },
    {
      "cell_type": "markdown",
      "source": [
        "## **5) 텐서의 차원 교환**\n",
        "- 하나의 텐서에서 특정한 차원끼리 순서를 교체할 수 있다."
      ],
      "metadata": {
        "id": "tUoz8KnJPSRW"
      }
    },
    {
      "cell_type": "code",
      "source": [
        "a = tf.random.uniform((64, 32, 3))\n",
        "print(a.shape)\n",
        "\n",
        "b = tf.transpose(a, perm = [2, 1, 0]) # 차원 자체를 교환\n",
        "# (2번째 축, 1번째 축, 0번째 축)의 형태가 되도록 한다.\n",
        "print(b.shape)"
      ],
      "metadata": {
        "colab": {
          "base_uri": "https://localhost:8080/"
        },
        "id": "1u54MJYHPMSX",
        "outputId": "14a1e925-d49a-4629-993b-80fb3a5eb92b"
      },
      "execution_count": 12,
      "outputs": [
        {
          "output_type": "stream",
          "name": "stdout",
          "text": [
            "Executing op _EagerConst in device /job:localhost/replica:0/task:0/device:GPU:0\n",
            "Executing op RandomUniform in device /job:localhost/replica:0/task:0/device:GPU:0\n",
            "(64, 32, 3)\n",
            "Executing op _EagerConst in device /job:localhost/replica:0/task:0/device:GPU:0\n",
            "Executing op Transpose in device /job:localhost/replica:0/task:0/device:GPU:0\n",
            "(3, 32, 64)\n"
          ]
        }
      ]
    },
    {
      "cell_type": "markdown",
      "source": [
        "# **4. 텐서의 연산과 함수**"
      ],
      "metadata": {
        "id": "qn3x44WNPqpo"
      }
    },
    {
      "cell_type": "markdown",
      "source": [
        "## **1) 텐서의 연산**\n",
        "- 텐서에 대하여 사칙연산 등 기본적인 연산을 수행할 수 있다."
      ],
      "metadata": {
        "id": "ypx14nIoPtaV"
      }
    },
    {
      "cell_type": "code",
      "source": [
        "# 같은 크기를 가진 두 개의 텐서에 대하여 사칙연산 가능\n",
        "# 기본적으로 요소별(element-wise) 연산\n",
        "a = tf.constant([\n",
        "    [1, 2],\n",
        "    [3, 4]\n",
        "])\n",
        "b = tf.constant([\n",
        "    [5, 6],\n",
        "    [7, 8]\n",
        "])\n",
        "print(a + b)\n",
        "print(a - b)\n",
        "print(a * b)\n",
        "print(a / b)"
      ],
      "metadata": {
        "colab": {
          "base_uri": "https://localhost:8080/"
        },
        "id": "_yBUNBoAPgsw",
        "outputId": "aba3dc68-e008-460e-df97-f8f145fbfd82"
      },
      "execution_count": 13,
      "outputs": [
        {
          "output_type": "stream",
          "name": "stdout",
          "text": [
            "Executing op _EagerConst in device /job:localhost/replica:0/task:0/device:GPU:0\n",
            "Executing op _EagerConst in device /job:localhost/replica:0/task:0/device:GPU:0\n",
            "Executing op AddV2 in device /job:localhost/replica:0/task:0/device:GPU:0\n",
            "tf.Tensor(\n",
            "[[ 6  8]\n",
            " [10 12]], shape=(2, 2), dtype=int32)\n",
            "Executing op Sub in device /job:localhost/replica:0/task:0/device:GPU:0\n",
            "tf.Tensor(\n",
            "[[-4 -4]\n",
            " [-4 -4]], shape=(2, 2), dtype=int32)\n",
            "Executing op Mul in device /job:localhost/replica:0/task:0/device:GPU:0\n",
            "tf.Tensor(\n",
            "[[ 5 12]\n",
            " [21 32]], shape=(2, 2), dtype=int32)\n",
            "Executing op Cast in device /job:localhost/replica:0/task:0/device:GPU:0\n",
            "Executing op Cast in device /job:localhost/replica:0/task:0/device:GPU:0\n",
            "Executing op RealDiv in device /job:localhost/replica:0/task:0/device:GPU:0\n",
            "tf.Tensor(\n",
            "[[0.2        0.33333333]\n",
            " [0.42857143 0.5       ]], shape=(2, 2), dtype=float64)\n"
          ]
        }
      ]
    },
    {
      "cell_type": "markdown",
      "source": [
        "- 행렬 곱을 수행할 수 있다."
      ],
      "metadata": {
        "id": "Ui_nWiauQLOU"
      }
    },
    {
      "cell_type": "code",
      "source": [
        "a = tf.constant([\n",
        "    [1, 2],\n",
        "    [3, 4]\n",
        "])\n",
        "b = tf.constant([\n",
        "    [5, 6],\n",
        "    [7, 8]\n",
        "])\n",
        "# 행렬 곱(matrix multiplication) 수행\n",
        "print(tf.matmul(a, b))"
      ],
      "metadata": {
        "colab": {
          "base_uri": "https://localhost:8080/"
        },
        "id": "wHWQPzLeP_CJ",
        "outputId": "9faad5a1-35da-4660-ab9a-d89bb44b1563"
      },
      "execution_count": 14,
      "outputs": [
        {
          "output_type": "stream",
          "name": "stdout",
          "text": [
            "Executing op _EagerConst in device /job:localhost/replica:0/task:0/device:GPU:0\n",
            "Executing op _EagerConst in device /job:localhost/replica:0/task:0/device:GPU:0\n",
            "Executing op MatMul in device /job:localhost/replica:0/task:0/device:CPU:0\n",
            "tf.Tensor(\n",
            "[[19 22]\n",
            " [43 50]], shape=(2, 2), dtype=int32)\n"
          ]
        }
      ]
    },
    {
      "cell_type": "markdown",
      "source": [
        "## **2) 텐서의 평균 함수**\n",
        "- 텐서의 평균(mean)을 계산할 수 있다.\n",
        "- 텐서플로우에서는 차원이 감소한다는 의미로 reduce라는 용어를 사용한다."
      ],
      "metadata": {
        "id": "KsjrINK5QaMN"
      }
    },
    {
      "cell_type": "code",
      "source": [
        "a = tf.constant([\n",
        "    [1, 2, 3, 4],\n",
        "    [5, 6, 7, 8]\n",
        "])\n",
        "print(a)\n",
        "print(tf.reduce_mean(a)) # 전체 원소에 대한 평균\n",
        "print(tf.reduce_mean(a, axis = 0)) # 각 열에 대하여 평균 계산\n",
        "print(tf.reduce_mean(a, axis = 1)) # 각 행에 대하여 평균 계산"
      ],
      "metadata": {
        "colab": {
          "base_uri": "https://localhost:8080/"
        },
        "id": "C6xMyhq6QWNx",
        "outputId": "fef3b34c-d546-414b-b305-ea2950b09525"
      },
      "execution_count": 15,
      "outputs": [
        {
          "output_type": "stream",
          "name": "stdout",
          "text": [
            "Executing op _EagerConst in device /job:localhost/replica:0/task:0/device:GPU:0\n",
            "tf.Tensor(\n",
            "[[1 2 3 4]\n",
            " [5 6 7 8]], shape=(2, 4), dtype=int32)\n",
            "Executing op _EagerConst in device /job:localhost/replica:0/task:0/device:GPU:0\n",
            "Executing op Mean in device /job:localhost/replica:0/task:0/device:CPU:0\n",
            "tf.Tensor(4, shape=(), dtype=int32)\n",
            "Executing op Mean in device /job:localhost/replica:0/task:0/device:CPU:0\n",
            "tf.Tensor([3 4 5 6], shape=(4,), dtype=int32)\n",
            "Executing op Mean in device /job:localhost/replica:0/task:0/device:CPU:0\n",
            "tf.Tensor([2 6], shape=(2,), dtype=int32)\n"
          ]
        }
      ]
    },
    {
      "cell_type": "markdown",
      "source": [
        "## **3) 텐서의 합계 함수**\n",
        "- 텐서의 합계(sum)를 계산할 수 있다."
      ],
      "metadata": {
        "id": "EcK5ZZLiQv10"
      }
    },
    {
      "cell_type": "code",
      "source": [
        "a = tf.constant([\n",
        "    [1, 2, 3, 4],\n",
        "    [5, 6, 7, 8]\n",
        "])\n",
        "print(a)\n",
        "print(tf.reduce_sum(a)) # 전체 원소에 대한 합계\n",
        "print(tf.reduce_sum(a, axis = 0)) # 각 열에 대하여 합계 계산\n",
        "print(tf.reduce_sum(a, axis = 1)) # 각 행에 대하여 합계 계산"
      ],
      "metadata": {
        "colab": {
          "base_uri": "https://localhost:8080/"
        },
        "id": "oboacZoMQuXr",
        "outputId": "87b7ec7f-bba5-4da8-d21a-9a23bdcfb872"
      },
      "execution_count": 16,
      "outputs": [
        {
          "output_type": "stream",
          "name": "stdout",
          "text": [
            "Executing op _EagerConst in device /job:localhost/replica:0/task:0/device:GPU:0\n",
            "tf.Tensor(\n",
            "[[1 2 3 4]\n",
            " [5 6 7 8]], shape=(2, 4), dtype=int32)\n",
            "Executing op _EagerConst in device /job:localhost/replica:0/task:0/device:GPU:0\n",
            "Executing op Sum in device /job:localhost/replica:0/task:0/device:GPU:0\n",
            "tf.Tensor(36, shape=(), dtype=int32)\n",
            "Executing op Sum in device /job:localhost/replica:0/task:0/device:GPU:0\n",
            "tf.Tensor([ 6  8 10 12], shape=(4,), dtype=int32)\n",
            "Executing op Sum in device /job:localhost/replica:0/task:0/device:GPU:0\n",
            "tf.Tensor([10 26], shape=(2,), dtype=int32)\n"
          ]
        }
      ]
    },
    {
      "cell_type": "markdown",
      "source": [
        "## **4) 텐서의 최대 함수**\n",
        "- **max() 함수**는 원소의 최댓값을 반환한다.\n",
        "- **argmax() 함수**는 가장 큰 원소(최댓값)의 인덱스를 반환한다."
      ],
      "metadata": {
        "id": "rwsXDj0ZRG_6"
      }
    },
    {
      "cell_type": "code",
      "source": [
        "a = tf.constant([\n",
        "    [1, 2, 3, 4],\n",
        "    [5, 6, 7, 8]\n",
        "])\n",
        "print(a)\n",
        "print(tf.reduce_max(a)) # 전체 원소에 대한 최댓값\n",
        "print(tf.reduce_max(a, axis = 0)) # 각 열에 대하여 최댓값 계산\n",
        "print(tf.reduce_max(a, axis = 1)) # 각 행에 대하여 최댓값 계산"
      ],
      "metadata": {
        "colab": {
          "base_uri": "https://localhost:8080/"
        },
        "id": "FgFkHN4xRD4a",
        "outputId": "a7071a15-dbdc-4ba0-e18d-416ade46f6d2"
      },
      "execution_count": 17,
      "outputs": [
        {
          "output_type": "stream",
          "name": "stdout",
          "text": [
            "Executing op _EagerConst in device /job:localhost/replica:0/task:0/device:GPU:0\n",
            "tf.Tensor(\n",
            "[[1 2 3 4]\n",
            " [5 6 7 8]], shape=(2, 4), dtype=int32)\n",
            "Executing op _EagerConst in device /job:localhost/replica:0/task:0/device:GPU:0\n",
            "Executing op Max in device /job:localhost/replica:0/task:0/device:GPU:0\n",
            "tf.Tensor(8, shape=(), dtype=int32)\n",
            "Executing op Max in device /job:localhost/replica:0/task:0/device:GPU:0\n",
            "tf.Tensor([5 6 7 8], shape=(4,), dtype=int32)\n",
            "Executing op Max in device /job:localhost/replica:0/task:0/device:GPU:0\n",
            "tf.Tensor([4 8], shape=(2,), dtype=int32)\n"
          ]
        }
      ]
    },
    {
      "cell_type": "code",
      "source": [
        "a = tf.constant([\n",
        "    [1, 2, 3, 4],\n",
        "    [5, 6, 7, 8]\n",
        "])\n",
        "print(a)\n",
        "print(tf.argmax(a, axis = 0)) # 각 열에 대하여 최댓값의 인덱스 계산\n",
        "print(tf.argmax(a, axis = 1)) # 각 행에 대하여 최댓값의 인덱스 계산"
      ],
      "metadata": {
        "colab": {
          "base_uri": "https://localhost:8080/"
        },
        "id": "K2qs2kq7RX1l",
        "outputId": "69f63c9b-8e41-4b99-a77a-6203ade638bb"
      },
      "execution_count": 19,
      "outputs": [
        {
          "output_type": "stream",
          "name": "stdout",
          "text": [
            "Executing op _EagerConst in device /job:localhost/replica:0/task:0/device:GPU:0\n",
            "tf.Tensor(\n",
            "[[1 2 3 4]\n",
            " [5 6 7 8]], shape=(2, 4), dtype=int32)\n",
            "Executing op ArgMax in device /job:localhost/replica:0/task:0/device:CPU:0\n",
            "tf.Tensor([1 1 1 1], shape=(4,), dtype=int64)\n",
            "Executing op ArgMax in device /job:localhost/replica:0/task:0/device:CPU:0\n",
            "tf.Tensor([3 3], shape=(2,), dtype=int64)\n"
          ]
        }
      ]
    },
    {
      "cell_type": "markdown",
      "source": [
        "## **5) 텐서의 차원 줄이기 혹은 늘리기**\n",
        "- **unsqueeze() 함수**는 크기가 1인 차원을 추가한다.\n",
        "    - 배치(batch) 차원을 추가하기 위한 목적으로 흔히 사용된다.\n",
        "- **squeeze() 함수**는 크기가 1인 차원을 제거한다."
      ],
      "metadata": {
        "id": "TACHkK9ZRlRt"
      }
    },
    {
      "cell_type": "code",
      "source": [
        "a = tf.constant([\n",
        "    [1, 2, 3, 4],\n",
        "    [5, 6, 7, 8]\n",
        "])\n",
        "print(a.shape)\n",
        "\n",
        "# 첫 번째 축에 차원 추가\n",
        "a = tf.expand_dims(a, 0)\n",
        "print(a)\n",
        "print(a.shape)\n",
        "\n",
        "# 네 번째 축에 차원 추가\n",
        "a = tf.expand_dims(a, 3)\n",
        "print(a)\n",
        "print(a.shape)"
      ],
      "metadata": {
        "colab": {
          "base_uri": "https://localhost:8080/"
        },
        "id": "sGlR6puPRhNX",
        "outputId": "8116e0ba-926a-4e2e-9ae3-9968e60e6b87"
      },
      "execution_count": 20,
      "outputs": [
        {
          "output_type": "stream",
          "name": "stdout",
          "text": [
            "Executing op _EagerConst in device /job:localhost/replica:0/task:0/device:GPU:0\n",
            "(2, 4)\n",
            "Executing op ExpandDims in device /job:localhost/replica:0/task:0/device:GPU:0\n",
            "tf.Tensor(\n",
            "[[[1 2 3 4]\n",
            "  [5 6 7 8]]], shape=(1, 2, 4), dtype=int32)\n",
            "(1, 2, 4)\n",
            "Executing op _EagerConst in device /job:localhost/replica:0/task:0/device:GPU:0\n",
            "Executing op ExpandDims in device /job:localhost/replica:0/task:0/device:GPU:0\n",
            "tf.Tensor(\n",
            "[[[[1]\n",
            "   [2]\n",
            "   [3]\n",
            "   [4]]\n",
            "\n",
            "  [[5]\n",
            "   [6]\n",
            "   [7]\n",
            "   [8]]]], shape=(1, 2, 4, 1), dtype=int32)\n",
            "(1, 2, 4, 1)\n"
          ]
        }
      ]
    },
    {
      "cell_type": "code",
      "source": [
        "# 크기가 1인 차원 제거\n",
        "a = tf.squeeze(a)\n",
        "print(a)\n",
        "print(a.shape)"
      ],
      "metadata": {
        "colab": {
          "base_uri": "https://localhost:8080/"
        },
        "id": "KSuYaEgyR8aA",
        "outputId": "b8c75c4a-6fb9-47f8-92ac-45321e53d184"
      },
      "execution_count": 21,
      "outputs": [
        {
          "output_type": "stream",
          "name": "stdout",
          "text": [
            "Executing op Squeeze in device /job:localhost/replica:0/task:0/device:GPU:0\n",
            "tf.Tensor(\n",
            "[[1 2 3 4]\n",
            " [5 6 7 8]], shape=(2, 4), dtype=int32)\n",
            "(2, 4)\n"
          ]
        }
      ]
    },
    {
      "cell_type": "markdown",
      "source": [
        "# **5. 자동 미분과 기울기(Gradient)**\n",
        "- Tensorflow에서는 Gradient Tape 기능을 제공한다.\n",
        "- 이는 \"기울기 테이프\"라는 의미를 가진다.\n",
        "- 중간의 관련 연산들을 테이프에 기록하고, 역전파(backward)를 수행했을 때 **기울기가 계산**된다."
      ],
      "metadata": {
        "id": "K9BXb67ASLO1"
      }
    },
    {
      "cell_type": "code",
      "source": [
        "import tensorflow as tf\n",
        "\n",
        "x = tf.Variable([3.0, 4.0])\n",
        "y = tf.Variable([1.0, 2.0])\n",
        "\n",
        "# 진행되는 모든 연산들을 기록\n",
        "with tf.GradientTape() as tape :\n",
        "    z = x + y\n",
        "    loss = tf.math.reduce_mean(z)\n",
        "\n",
        "dx = tape.gradient(loss, x) # loss가 scalar이므로 계산 가능\n",
        "print(dx)"
      ],
      "metadata": {
        "colab": {
          "base_uri": "https://localhost:8080/"
        },
        "id": "o31c5Ch5SFw-",
        "outputId": "d6be5a82-c391-453a-f1f9-de2653ba8adc"
      },
      "execution_count": 22,
      "outputs": [
        {
          "output_type": "stream",
          "name": "stdout",
          "text": [
            "Executing op _EagerConst in device /job:localhost/replica:0/task:0/device:GPU:0\n",
            "Executing op VarHandleOp in device /job:localhost/replica:0/task:0/device:GPU:0\n",
            "Executing op AssignVariableOp in device /job:localhost/replica:0/task:0/device:GPU:0\n",
            "Executing op _EagerConst in device /job:localhost/replica:0/task:0/device:GPU:0\n",
            "Executing op VarHandleOp in device /job:localhost/replica:0/task:0/device:GPU:0\n",
            "Executing op AssignVariableOp in device /job:localhost/replica:0/task:0/device:GPU:0\n",
            "Executing op ReadVariableOp in device /job:localhost/replica:0/task:0/device:GPU:0\n",
            "Executing op ReadVariableOp in device /job:localhost/replica:0/task:0/device:GPU:0\n",
            "Executing op AddV2 in device /job:localhost/replica:0/task:0/device:GPU:0\n",
            "Executing op _EagerConst in device /job:localhost/replica:0/task:0/device:GPU:0\n",
            "Executing op Mean in device /job:localhost/replica:0/task:0/device:GPU:0\n",
            "Executing op _EagerConst in device /job:localhost/replica:0/task:0/device:GPU:0\n",
            "Executing op _EagerConst in device /job:localhost/replica:0/task:0/device:GPU:0\n",
            "Executing op Reshape in device /job:localhost/replica:0/task:0/device:GPU:0\n",
            "Executing op _EagerConst in device /job:localhost/replica:0/task:0/device:GPU:0\n",
            "Executing op Tile in device /job:localhost/replica:0/task:0/device:GPU:0\n",
            "Executing op _EagerConst in device /job:localhost/replica:0/task:0/device:GPU:0\n",
            "Executing op RealDiv in device /job:localhost/replica:0/task:0/device:GPU:0\n",
            "tf.Tensor([0.5 0.5], shape=(2,), dtype=float32)\n"
          ]
        }
      ]
    },
    {
      "cell_type": "markdown",
      "source": [
        "- TensorFlow에서는 변수가 아닌 상수라면 기본적으로 기울기를 측정하지 않는다. (not watched)\n",
        "- 또한, 변수라고 해도 학습 가능하지 않으면 (not trainable) 자동 미분을 사용하지 않는다."
      ],
      "metadata": {
        "id": "yJH3nwLISnq9"
      }
    },
    {
      "cell_type": "code",
      "source": [
        "x = tf.linspace(-10, 10, 100)\n",
        "\n",
        "with tf.GradientTape() as tape :\n",
        "    tape.watch(x) # constant이므로, watch() 함수 호출 필요\n",
        "    y = tf.nn.sigmoid(x)\n",
        "\n",
        "dx = tape.gradient(y, x)\n",
        "print(dx)"
      ],
      "metadata": {
        "colab": {
          "base_uri": "https://localhost:8080/"
        },
        "id": "KB91DoJJSmZ4",
        "outputId": "4fce5acc-e2ef-4a15-95a0-d381f525c9e9"
      },
      "execution_count": 23,
      "outputs": [
        {
          "output_type": "stream",
          "name": "stdout",
          "text": [
            "Executing op _EagerConst in device /job:localhost/replica:0/task:0/device:GPU:0\n",
            "Executing op _EagerConst in device /job:localhost/replica:0/task:0/device:GPU:0\n",
            "Executing op _EagerConst in device /job:localhost/replica:0/task:0/device:GPU:0\n",
            "Executing op Cast in device /job:localhost/replica:0/task:0/device:GPU:0\n",
            "Executing op Shape in device /job:localhost/replica:0/task:0/device:GPU:0\n",
            "Executing op Shape in device /job:localhost/replica:0/task:0/device:GPU:0\n",
            "Executing op BroadcastArgs in device /job:localhost/replica:0/task:0/device:GPU:0\n",
            "Executing op BroadcastTo in device /job:localhost/replica:0/task:0/device:GPU:0\n",
            "Executing op BroadcastTo in device /job:localhost/replica:0/task:0/device:GPU:0\n",
            "Executing op ExpandDims in device /job:localhost/replica:0/task:0/device:GPU:0\n",
            "Executing op ExpandDims in device /job:localhost/replica:0/task:0/device:GPU:0\n",
            "Executing op Shape in device /job:localhost/replica:0/task:0/device:GPU:0\n",
            "Executing op Shape in device /job:localhost/replica:0/task:0/device:GPU:0\n",
            "Executing op _EagerConst in device /job:localhost/replica:0/task:0/device:GPU:0\n",
            "Executing op _EagerConst in device /job:localhost/replica:0/task:0/device:GPU:0\n",
            "Executing op _EagerConst in device /job:localhost/replica:0/task:0/device:GPU:0\n",
            "Executing op StridedSlice in device /job:localhost/replica:0/task:0/device:GPU:0\n",
            "Executing op AddV2 in device /job:localhost/replica:0/task:0/device:GPU:0\n",
            "Executing op _EagerConst in device /job:localhost/replica:0/task:0/device:GPU:0\n",
            "Executing op SelectV2 in device /job:localhost/replica:0/task:0/device:GPU:0\n",
            "Executing op Sub in device /job:localhost/replica:0/task:0/device:GPU:0\n",
            "Executing op Maximum in device /job:localhost/replica:0/task:0/device:GPU:0\n",
            "Executing op Sub in device /job:localhost/replica:0/task:0/device:GPU:0\n",
            "Executing op Maximum in device /job:localhost/replica:0/task:0/device:GPU:0\n",
            "Executing op Sub in device /job:localhost/replica:0/task:0/device:GPU:0\n",
            "Executing op Cast in device /job:localhost/replica:0/task:0/device:GPU:0\n",
            "Executing op Cast in device /job:localhost/replica:0/task:0/device:GPU:0\n",
            "Executing op RealDiv in device /job:localhost/replica:0/task:0/device:GPU:0\n",
            "Executing op Cast in device /job:localhost/replica:0/task:0/device:GPU:0\n",
            "Executing op Cast in device /job:localhost/replica:0/task:0/device:GPU:0\n",
            "Executing op GreaterEqual in device /job:localhost/replica:0/task:0/device:GPU:0\n",
            "Executing op _EagerConst in device /job:localhost/replica:0/task:0/device:GPU:0\n",
            "Executing op SelectV2 in device /job:localhost/replica:0/task:0/device:GPU:0\n",
            "Executing op _EagerConst in device /job:localhost/replica:0/task:0/device:GPU:0\n",
            "Executing op Cast in device /job:localhost/replica:0/task:0/device:GPU:0\n",
            "Executing op Range in device /job:localhost/replica:0/task:0/device:GPU:0\n",
            "Executing op Cast in device /job:localhost/replica:0/task:0/device:GPU:0\n",
            "Executing op _EagerConst in device /job:localhost/replica:0/task:0/device:GPU:0\n",
            "Executing op _EagerConst in device /job:localhost/replica:0/task:0/device:GPU:0\n",
            "Executing op Range in device /job:localhost/replica:0/task:0/device:GPU:0\n",
            "Executing op Equal in device /job:localhost/replica:0/task:0/device:GPU:0\n",
            "Executing op SelectV2 in device /job:localhost/replica:0/task:0/device:GPU:0\n",
            "Executing op Reshape in device /job:localhost/replica:0/task:0/device:GPU:0\n",
            "Executing op Mul in device /job:localhost/replica:0/task:0/device:GPU:0\n",
            "Executing op AddV2 in device /job:localhost/replica:0/task:0/device:GPU:0\n",
            "Executing op ConcatV2 in device /job:localhost/replica:0/task:0/device:GPU:0\n",
            "Executing op ZerosLike in device /job:localhost/replica:0/task:0/device:GPU:0\n",
            "Executing op _EagerConst in device /job:localhost/replica:0/task:0/device:GPU:0\n",
            "Executing op Pack in device /job:localhost/replica:0/task:0/device:GPU:0\n",
            "Executing op Pack in device /job:localhost/replica:0/task:0/device:GPU:0\n",
            "Executing op StridedSlice in device /job:localhost/replica:0/task:0/device:GPU:0\n",
            "Executing op _EagerConst in device /job:localhost/replica:0/task:0/device:GPU:0\n",
            "Executing op Reshape in device /job:localhost/replica:0/task:0/device:GPU:0\n",
            "Executing op AddV2 in device /job:localhost/replica:0/task:0/device:GPU:0\n",
            "Executing op Pack in device /job:localhost/replica:0/task:0/device:GPU:0\n",
            "Executing op Pack in device /job:localhost/replica:0/task:0/device:GPU:0\n",
            "Executing op Pack in device /job:localhost/replica:0/task:0/device:GPU:0\n",
            "Executing op StridedSlice in device /job:localhost/replica:0/task:0/device:GPU:0\n",
            "Executing op ConcatV2 in device /job:localhost/replica:0/task:0/device:GPU:0\n",
            "Executing op Slice in device /job:localhost/replica:0/task:0/device:GPU:0\n",
            "Executing op Sigmoid in device /job:localhost/replica:0/task:0/device:GPU:0\n",
            "Executing op _EagerConst in device /job:localhost/replica:0/task:0/device:GPU:0\n",
            "Executing op _EagerConst in device /job:localhost/replica:0/task:0/device:GPU:0\n",
            "Executing op Fill in device /job:localhost/replica:0/task:0/device:GPU:0\n",
            "Executing op SigmoidGrad in device /job:localhost/replica:0/task:0/device:GPU:0\n",
            "tf.Tensor(\n",
            "[4.53958077e-05 5.55575620e-05 6.79936937e-05 8.32130942e-05\n",
            " 1.01838442e-04 1.24631609e-04 1.52524715e-04 1.86658091e-04\n",
            " 2.28426653e-04 2.79536554e-04 3.42074339e-04 4.18591319e-04\n",
            " 5.12206458e-04 6.26731702e-04 7.66824507e-04 9.38173215e-04\n",
            " 1.14772200e-03 1.40394326e-03 1.71716676e-03 2.09997591e-03\n",
            " 2.56768332e-03 3.13889855e-03 3.83620191e-03 4.68693782e-03\n",
            " 5.72413978e-03 6.98759437e-03 8.52504404e-03 1.03935138e-02\n",
            " 1.26607241e-02 1.54065171e-02 1.87241696e-02 2.27213903e-02\n",
            " 2.75206964e-02 3.32587242e-02 4.00838615e-02 4.81513998e-02\n",
            " 5.76152215e-02 6.86149280e-02 8.12573764e-02 9.55919842e-02\n",
            " 1.11580066e-01 1.29060077e-01 1.47712989e-01 1.67034879e-01\n",
            " 1.86326443e-01 2.04710159e-01 2.21183725e-01 2.34711795e-01\n",
            " 2.44347497e-01 2.49363393e-01 2.49363393e-01 2.44347497e-01\n",
            " 2.34711795e-01 2.21183725e-01 2.04710159e-01 1.86326443e-01\n",
            " 1.67034879e-01 1.47712989e-01 1.29060077e-01 1.11580066e-01\n",
            " 9.55919842e-02 8.12573764e-02 6.86149280e-02 5.76152215e-02\n",
            " 4.81513998e-02 4.00838615e-02 3.32587242e-02 2.75206964e-02\n",
            " 2.27213903e-02 1.87241696e-02 1.54065171e-02 1.26607241e-02\n",
            " 1.03935138e-02 8.52504404e-03 6.98759437e-03 5.72413978e-03\n",
            " 4.68693782e-03 3.83620191e-03 3.13889855e-03 2.56768332e-03\n",
            " 2.09997591e-03 1.71716676e-03 1.40394326e-03 1.14772200e-03\n",
            " 9.38173215e-04 7.66824507e-04 6.26731702e-04 5.12206458e-04\n",
            " 4.18591319e-04 3.42074339e-04 2.79536554e-04 2.28426653e-04\n",
            " 1.86658091e-04 1.52524715e-04 1.24631609e-04 1.01838442e-04\n",
            " 8.32130942e-05 6.79936937e-05 5.55575620e-05 4.53958077e-05], shape=(100,), dtype=float64)\n"
          ]
        }
      ]
    },
    {
      "cell_type": "code",
      "source": [
        "import matplotlib.pyplot as plt\n",
        "\n",
        "plt.plot(x, y, 'r', label = 'y')\n",
        "plt.plot(x, dx, 'b--', label = 'dy / dx')\n",
        "plt.legend()\n",
        "plt.show()"
      ],
      "metadata": {
        "colab": {
          "base_uri": "https://localhost:8080/",
          "height": 1000
        },
        "id": "unYzIWCKTDAm",
        "outputId": "298fcdb1-a346-41d5-d837-d1b439b3ab79"
      },
      "execution_count": 24,
      "outputs": [
        {
          "output_type": "stream",
          "name": "stdout",
          "text": [
            "Executing op _EagerConst in device /job:localhost/replica:0/task:0/device:GPU:0\n",
            "Executing op _EagerConst in device /job:localhost/replica:0/task:0/device:GPU:0\n",
            "Executing op _EagerConst in device /job:localhost/replica:0/task:0/device:GPU:0\n",
            "Executing op StridedSlice in device /job:localhost/replica:0/task:0/device:GPU:0\n",
            "Executing op _EagerConst in device /job:localhost/replica:0/task:0/device:GPU:0\n",
            "Executing op _EagerConst in device /job:localhost/replica:0/task:0/device:GPU:0\n",
            "Executing op _EagerConst in device /job:localhost/replica:0/task:0/device:GPU:0\n",
            "Executing op StridedSlice in device /job:localhost/replica:0/task:0/device:GPU:0\n",
            "Executing op _EagerConst in device /job:localhost/replica:0/task:0/device:GPU:0\n",
            "Executing op _EagerConst in device /job:localhost/replica:0/task:0/device:GPU:0\n",
            "Executing op _EagerConst in device /job:localhost/replica:0/task:0/device:GPU:0\n",
            "Executing op StridedSlice in device /job:localhost/replica:0/task:0/device:GPU:0\n",
            "Executing op _EagerConst in device /job:localhost/replica:0/task:0/device:GPU:0\n",
            "Executing op _EagerConst in device /job:localhost/replica:0/task:0/device:GPU:0\n",
            "Executing op _EagerConst in device /job:localhost/replica:0/task:0/device:GPU:0\n",
            "Executing op StridedSlice in device /job:localhost/replica:0/task:0/device:GPU:0\n",
            "Executing op _EagerConst in device /job:localhost/replica:0/task:0/device:GPU:0\n",
            "Executing op _EagerConst in device /job:localhost/replica:0/task:0/device:GPU:0\n",
            "Executing op _EagerConst in device /job:localhost/replica:0/task:0/device:GPU:0\n",
            "Executing op StridedSlice in device /job:localhost/replica:0/task:0/device:GPU:0\n",
            "Executing op _EagerConst in device /job:localhost/replica:0/task:0/device:GPU:0\n",
            "Executing op _EagerConst in device /job:localhost/replica:0/task:0/device:GPU:0\n",
            "Executing op _EagerConst in device /job:localhost/replica:0/task:0/device:GPU:0\n",
            "Executing op StridedSlice in device /job:localhost/replica:0/task:0/device:GPU:0\n",
            "Executing op _EagerConst in device /job:localhost/replica:0/task:0/device:GPU:0\n",
            "Executing op _EagerConst in device /job:localhost/replica:0/task:0/device:GPU:0\n",
            "Executing op _EagerConst in device /job:localhost/replica:0/task:0/device:GPU:0\n",
            "Executing op StridedSlice in device /job:localhost/replica:0/task:0/device:GPU:0\n",
            "Executing op _EagerConst in device /job:localhost/replica:0/task:0/device:GPU:0\n",
            "Executing op _EagerConst in device /job:localhost/replica:0/task:0/device:GPU:0\n",
            "Executing op _EagerConst in device /job:localhost/replica:0/task:0/device:GPU:0\n",
            "Executing op StridedSlice in device /job:localhost/replica:0/task:0/device:GPU:0\n",
            "Executing op _EagerConst in device /job:localhost/replica:0/task:0/device:GPU:0\n",
            "Executing op _EagerConst in device /job:localhost/replica:0/task:0/device:GPU:0\n",
            "Executing op _EagerConst in device /job:localhost/replica:0/task:0/device:GPU:0\n",
            "Executing op StridedSlice in device /job:localhost/replica:0/task:0/device:GPU:0\n",
            "Executing op _EagerConst in device /job:localhost/replica:0/task:0/device:GPU:0\n",
            "Executing op _EagerConst in device /job:localhost/replica:0/task:0/device:GPU:0\n",
            "Executing op _EagerConst in device /job:localhost/replica:0/task:0/device:GPU:0\n",
            "Executing op StridedSlice in device /job:localhost/replica:0/task:0/device:GPU:0\n",
            "Executing op _EagerConst in device /job:localhost/replica:0/task:0/device:GPU:0\n",
            "Executing op _EagerConst in device /job:localhost/replica:0/task:0/device:GPU:0\n",
            "Executing op _EagerConst in device /job:localhost/replica:0/task:0/device:GPU:0\n",
            "Executing op StridedSlice in device /job:localhost/replica:0/task:0/device:GPU:0\n",
            "Executing op _EagerConst in device /job:localhost/replica:0/task:0/device:GPU:0\n",
            "Executing op _EagerConst in device /job:localhost/replica:0/task:0/device:GPU:0\n",
            "Executing op _EagerConst in device /job:localhost/replica:0/task:0/device:GPU:0\n",
            "Executing op StridedSlice in device /job:localhost/replica:0/task:0/device:GPU:0\n",
            "Executing op _EagerConst in device /job:localhost/replica:0/task:0/device:GPU:0\n",
            "Executing op _EagerConst in device /job:localhost/replica:0/task:0/device:GPU:0\n",
            "Executing op _EagerConst in device /job:localhost/replica:0/task:0/device:GPU:0\n",
            "Executing op StridedSlice in device /job:localhost/replica:0/task:0/device:GPU:0\n",
            "Executing op _EagerConst in device /job:localhost/replica:0/task:0/device:GPU:0\n",
            "Executing op _EagerConst in device /job:localhost/replica:0/task:0/device:GPU:0\n",
            "Executing op _EagerConst in device /job:localhost/replica:0/task:0/device:GPU:0\n",
            "Executing op StridedSlice in device /job:localhost/replica:0/task:0/device:GPU:0\n",
            "Executing op _EagerConst in device /job:localhost/replica:0/task:0/device:GPU:0\n",
            "Executing op _EagerConst in device /job:localhost/replica:0/task:0/device:GPU:0\n",
            "Executing op _EagerConst in device /job:localhost/replica:0/task:0/device:GPU:0\n",
            "Executing op StridedSlice in device /job:localhost/replica:0/task:0/device:GPU:0\n",
            "Executing op _EagerConst in device /job:localhost/replica:0/task:0/device:GPU:0\n",
            "Executing op _EagerConst in device /job:localhost/replica:0/task:0/device:GPU:0\n",
            "Executing op _EagerConst in device /job:localhost/replica:0/task:0/device:GPU:0\n",
            "Executing op StridedSlice in device /job:localhost/replica:0/task:0/device:GPU:0\n",
            "Executing op _EagerConst in device /job:localhost/replica:0/task:0/device:GPU:0\n",
            "Executing op _EagerConst in device /job:localhost/replica:0/task:0/device:GPU:0\n",
            "Executing op _EagerConst in device /job:localhost/replica:0/task:0/device:GPU:0\n",
            "Executing op StridedSlice in device /job:localhost/replica:0/task:0/device:GPU:0\n",
            "Executing op _EagerConst in device /job:localhost/replica:0/task:0/device:GPU:0\n",
            "Executing op _EagerConst in device /job:localhost/replica:0/task:0/device:GPU:0\n",
            "Executing op _EagerConst in device /job:localhost/replica:0/task:0/device:GPU:0\n",
            "Executing op StridedSlice in device /job:localhost/replica:0/task:0/device:GPU:0\n",
            "Executing op _EagerConst in device /job:localhost/replica:0/task:0/device:GPU:0\n",
            "Executing op _EagerConst in device /job:localhost/replica:0/task:0/device:GPU:0\n",
            "Executing op _EagerConst in device /job:localhost/replica:0/task:0/device:GPU:0\n",
            "Executing op StridedSlice in device /job:localhost/replica:0/task:0/device:GPU:0\n",
            "Executing op _EagerConst in device /job:localhost/replica:0/task:0/device:GPU:0\n",
            "Executing op _EagerConst in device /job:localhost/replica:0/task:0/device:GPU:0\n",
            "Executing op _EagerConst in device /job:localhost/replica:0/task:0/device:GPU:0\n",
            "Executing op StridedSlice in device /job:localhost/replica:0/task:0/device:GPU:0\n"
          ]
        },
        {
          "output_type": "display_data",
          "data": {
            "text/plain": [
              "<Figure size 640x480 with 1 Axes>"
            ],
            "image/png": "[encoded data removed]"
          },
          "metadata": {}
        }
      ]
    }
  ]
}